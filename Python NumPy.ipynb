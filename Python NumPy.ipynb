{
 "cells": [
  {
   "cell_type": "markdown",
   "metadata": {},
   "source": [
    "04：Python科学计算：用NumPy快速处理数据\n",
    "\n",
    "NumPy是Python中使用最多的第三方库，也是SciPy, Pandas等数据科学的基础库。NumPy提供的数据结构是Python数据分析的基础。NumPy 通常与 SciPy（Scientific Python）和 Matplotlib（绘图库）一起使用， 这种组合广泛用于替代 MatLab，是一个强大的科学计算环境，有助于我们通过 Python 学习数据科学或者机器学习。\n",
    "\n",
    "## 让科学计算更高效\n",
    "\n",
    "- NumPy数组结构 vs. Python的列表 list\n",
    "\n",
    "  NumPy数组存储在一个均匀连续的内存块中，数组计算遍历所有元素，无需查找内存地址，节省计算资源。\n",
    "\n",
    "  List 保存的是对象的指针，list 的元素在内存中存储分散，计算时需要查找内存地址，浪费内存和计算时间。\n",
    "\n",
    "- 内存访问模式中，缓存会直接把字节块从RAM 加载到CPU寄存器中\n",
    "\n",
    "- 矩阵计算可以采用多线程方式，充分利用多核CPU计算资源，大大提高效率\n",
    "\n",
    "- 技巧：避免隐式拷贝，而是采用就地操作的方式，如 `x*=2`，而不是 `y=x*2`，速度能快到2倍甚至更多。\n",
    "\n",
    "\n",
    "## ndarray (N-dimensional array object) 多维数组\n",
    "\n",
    "维数：秩 rank，描述的是轴的数量，轴为每个线性的数组\n",
    "\n",
    "### 1 创建数组："
   ]
  },
  {
   "cell_type": "code",
   "execution_count": 27,
   "metadata": {},
   "outputs": [
    {
     "name": "stdout",
     "output_type": "stream",
     "text": [
      "(4,)\n",
      "(3, 3)\n",
      "int32\n",
      "[[ 1  2  3]\n",
      " [ 4 10  6]\n",
      " [ 7  8  9]]\n"
     ]
    }
   ],
   "source": [
    "# -*- coding: utf-8 -*-\n",
    "\n",
    "# 引入NumPy库\n",
    "import numpy as np\n",
    "\n",
    "# 创建数组\n",
    "s = np.array([1,2,3,4])\n",
    "a = np.array([[1,2,3],[4,5,6],[7,8,9]])\n",
    "\n",
    "# shape 获得数组大小\n",
    "print (s.shape)\n",
    "print (a.shape)\n",
    "\n",
    "# dtype 获得元素属性\n",
    "print (s.dtype)\n",
    "\n",
    "# 修改b数组九宫格中间元素\n",
    "a[1,1] = 10\n",
    "print (a)"
   ]
  },
  {
   "cell_type": "markdown",
   "metadata": {},
   "source": [
    "### 2 结构数组\n",
    "\n",
    "C语言中通过struct定义结构类型，结构中的字段占据连续的内存空间，每个结构体占用的内存大小都相同。\n",
    "\n",
    "在NumPy中："
   ]
  },
  {
   "cell_type": "code",
   "execution_count": 6,
   "metadata": {},
   "outputs": [
    {
     "name": "stdout",
     "output_type": "stream",
     "text": [
      "[32 24 28 29]\n",
      "28.25\n"
     ]
    }
   ],
   "source": [
    "import numpy as np\n",
    "\n",
    "# dtype定义结构类型\n",
    "# S:(byte-)字符串, i:(有符号)整型，f:浮点型\n",
    "persontype = np.dtype({\n",
    "    'names':['name','age','chinese','math','english'],\n",
    "    'formats':['S32','i','i','i','f']\n",
    "})\n",
    "\n",
    "# array中指定结构数组的类型 dtype = persontype \n",
    "peoples = np.array([(\"ZhangFei\",32,75,100,90),(\"GuanYu\",24,85,96,88.5),\n",
    "                    (\"ZhaoYun\",28,85,92,96.5),(\"HuangZhong\",29,65,85,100)],\n",
    "                  dtype = persontype)\n",
    "\n",
    "# 打印每个人的年龄\n",
    "ages = peoples[:]['age']\n",
    "print (ages)\n",
    "\n",
    "# 计算平均年龄\n",
    "print (np.mean(ages))"
   ]
  },
  {
   "cell_type": "markdown",
   "metadata": {},
   "source": [
    "## ufunc (universal function object) 处理数组的函数\n",
    "\n",
    "### 1 创建连续数组"
   ]
  },
  {
   "cell_type": "code",
   "execution_count": 10,
   "metadata": {},
   "outputs": [
    {
     "name": "stdout",
     "output_type": "stream",
     "text": [
      "[1 3 5 7 9]\n",
      "[1 3 5 7 9]\n"
     ]
    }
   ],
   "source": [
    "# 创建等差数组的两种方式\n",
    "\n",
    "# arange 类似range(初始值，终值，步长)，默认不包含终值\n",
    "x1 = np.arange(1,11,2)\n",
    "\n",
    "# linspace 线性等分向量 linear space，(初始值，终值，元素个数)，默认包含终值\n",
    "# 默认得到的为浮点型，用dtype定义其为整型\n",
    "x2 = np.linspace(1,9,5,dtype=int)\n",
    "\n",
    "print (x1)\n",
    "print (x2)"
   ]
  },
  {
   "cell_type": "markdown",
   "metadata": {},
   "source": [
    "### 2 算数运算"
   ]
  },
  {
   "cell_type": "code",
   "execution_count": 13,
   "metadata": {},
   "outputs": [
    {
     "name": "stdout",
     "output_type": "stream",
     "text": [
      "[ 2  6 10 14 18]\n",
      "[0 0 0 0 0]\n",
      "[ 1  9 25 49 81]\n",
      "[1. 1. 1. 1. 1.]\n",
      "[        1        27      3125    823543 387420489]\n",
      "[0 0 0 0 0]\n",
      "[0 0 0 0 0]\n"
     ]
    }
   ],
   "source": [
    "# 加减乘除\n",
    "print (np.add(x1,x2))\n",
    "print (np.subtract(x1,x2))\n",
    "print (np.multiply(x1,x2))\n",
    "print (np.divide(x1,x2))\n",
    "\n",
    "# n次方：x1为基数，x2为次数\n",
    "print (np.power(x1,x2))\n",
    "\n",
    "# 取余两种方式：remainder 或 mod \n",
    "print (np.remainder(x1,x2))\n",
    "print (np.mod(x1,x2))"
   ]
  },
  {
   "cell_type": "markdown",
   "metadata": {},
   "source": [
    "### 3 统计函数"
   ]
  },
  {
   "cell_type": "code",
   "execution_count": 22,
   "metadata": {},
   "outputs": [
    {
     "name": "stdout",
     "output_type": "stream",
     "text": [
      "9\n",
      "[7 8 9]\n",
      "[3 6 9]\n",
      "1\n",
      "[1 2 3]\n",
      "[1 4 7]\n"
     ]
    }
   ],
   "source": [
    "# 统计最值\n",
    "import numpy as np\n",
    "a = np.array([[1,2,3],[4,5,6],[7,8,9]])\n",
    "\n",
    "# 最大值 amax()\n",
    "print (np.amax(a))\n",
    "\n",
    "# axis=0 轴 纵向：[1,4,7],[2,5,8],[3,6,9]每个的最大值\n",
    "print (np.amax(a,0))\n",
    "\n",
    "# axis=1 轴 横向：[1,2,3],[4,5,6],[7,8,9]每个的最大值\n",
    "print (np.amax(a,1))\n",
    "\n",
    "# 最小值 amin()\n",
    "print (np.amin(a))\n",
    "print (np.amin(a,0))\n",
    "print (np.amin(a,1))"
   ]
  },
  {
   "cell_type": "code",
   "execution_count": 16,
   "metadata": {},
   "outputs": [
    {
     "name": "stdout",
     "output_type": "stream",
     "text": [
      "8\n",
      "[6 6 6]\n",
      "[2 2 2]\n"
     ]
    }
   ],
   "source": [
    "# 统计最大值与最小值之差\n",
    "\n",
    "print (np.ptp(a))\n",
    "print (np.ptp(a,0))\n",
    "print (np.ptp(a,1))"
   ]
  },
  {
   "cell_type": "code",
   "execution_count": 23,
   "metadata": {},
   "outputs": [
    {
     "name": "stdout",
     "output_type": "stream",
     "text": [
      "5.0\n",
      "[4. 5. 6.]\n",
      "[2. 5. 8.]\n"
     ]
    }
   ],
   "source": [
    "# 统计数组的百分位数\n",
    "\n",
    "print (np.percentile(a,50))\n",
    "print (np.percentile(a,50, axis = 0))\n",
    "print (np.percentile(a,50, axis = 1))"
   ]
  },
  {
   "cell_type": "code",
   "execution_count": 24,
   "metadata": {},
   "outputs": [
    {
     "name": "stdout",
     "output_type": "stream",
     "text": [
      "5.0\n",
      "[4. 5. 6.]\n",
      "[2. 5. 8.]\n",
      "5.0\n",
      "[4. 5. 6.]\n",
      "[2. 5. 8.]\n"
     ]
    }
   ],
   "source": [
    "# 统计中位数\n",
    "\n",
    "print (np.median(a))\n",
    "print (np.median(a, axis = 0))\n",
    "print (np.median(a, axis = 1))\n",
    "\n",
    "# 统计平均数\n",
    "print (np.mean(a))\n",
    "print (np.mean(a, axis = 0))\n",
    "print (np.mean(a, axis = 1))"
   ]
  },
  {
   "cell_type": "code",
   "execution_count": 28,
   "metadata": {},
   "outputs": [
    {
     "name": "stdout",
     "output_type": "stream",
     "text": [
      "2.5\n",
      "3.0\n"
     ]
    }
   ],
   "source": [
    "# 统计加权平均值\n",
    "\n",
    "s = np.array([1,2,3,4])\n",
    "\n",
    "# 默认情况下，权重相同\n",
    "print (np.average(s))\n",
    "\n",
    "# 指定权重数组\n",
    "wts = np.array([1,2,3,4])\n",
    "print (np.average(s, weights = wts))"
   ]
  },
  {
   "cell_type": "code",
   "execution_count": 30,
   "metadata": {},
   "outputs": [
    {
     "name": "stdout",
     "output_type": "stream",
     "text": [
      "1.118033988749895\n",
      "1.25\n"
     ]
    }
   ],
   "source": [
    "# 统计标准差\n",
    "print (np.std(s))\n",
    "\n",
    "# 统计方差\n",
    "print (np.var(s))"
   ]
  },
  {
   "cell_type": "markdown",
   "metadata": {},
   "source": [
    "### 4 排序"
   ]
  },
  {
   "cell_type": "code",
   "execution_count": 32,
   "metadata": {},
   "outputs": [
    {
     "name": "stdout",
     "output_type": "stream",
     "text": [
      "[[2 3 4]\n",
      " [1 2 4]]\n",
      "[1 2 2 3 4 4]\n",
      "[[2 3 1]\n",
      " [4 4 2]]\n",
      "[[2 3 4]\n",
      " [1 2 4]]\n"
     ]
    }
   ],
   "source": [
    "# NumPy 排序\n",
    "# sort(a, axis = -1, kind = 'quicksort', order = None)\n",
    "# 默认为快速排序 quicksort\n",
    "# 还可以选择合并排序 mergesort，堆排序 heapsort\n",
    "# axis 默认是 -1，即沿着数组的最后一个轴排序\n",
    "# axis = None 表示所有元素作为一个向量进行排序\n",
    "# order 对于结构数组，指定按照某个字段排序\n",
    "\n",
    "p = np.array([[4,3,2],[2,4,1]])\n",
    "print (np.sort(p))\n",
    "print (np.sort(p, axis = None))\n",
    "print (np.sort(p, axis = 0))\n",
    "print (np.sort(p, axis = 1))"
   ]
  },
  {
   "cell_type": "markdown",
   "metadata": {},
   "source": [
    "## 练习：统计全班成绩\n",
    "\n",
    "假设团队5名学员，成绩如下表。统计各科目平均成绩、最小最大成绩、方差、标准差，然后按总成绩排序，得出名次进行成绩输出。\n",
    "\n",
    "|姓名|语文|英语|数学|\n",
    "|:--:|:--:|:--:|:--:|\n",
    "|张飞|66|65|30|\n",
    "|关羽|95|85|98|\n",
    "|赵云|93|92|96|\n",
    "|黄忠|90|88|77|\n",
    "|典韦|80|90|90|\n",
    "\n",
    "### 我的解答"
   ]
  },
  {
   "cell_type": "code",
   "execution_count": 124,
   "metadata": {},
   "outputs": [
    {
     "name": "stdout",
     "output_type": "stream",
     "text": [
      "   统计值    语文    英语   数学   总分\n",
      "[['平均分:' '84.8' '84.0' '78.2' '247.0']\n",
      " ['最高分:' '95.0' '92.0' '98.0' '281.0']\n",
      " ['最低分:' '66.0' '65.0' '30.0' '161.0']\n",
      " ['方 差:' '115.0' '95.6' '634.6' '1949.2']\n",
      " ['标准差:' '10.7' '9.8' '25.2' '44.1']]\n",
      "按总成绩从低到高排序如下：\n",
      "[(b'Zhangfei', 66, 65, 30, 161) (b'Huangzhong', 90, 88, 77, 255)\n",
      " (b'Dianwei', 80, 90, 90, 260) (b'Guanyu', 95, 85, 98, 278)\n",
      " (b'Zhaoyun', 93, 92, 96, 281)]\n"
     ]
    }
   ],
   "source": [
    "# 我的解答\n",
    "\n",
    "# -*- coding: utf-8 -*-\n",
    "import numpy as np\n",
    "\n",
    "persontype = np.dtype({\n",
    "    'names':['name','chinese','english','math','total'],\n",
    "    'formats':['S32','i','i','i','i']\n",
    "})\n",
    "\n",
    "peoples = np.array([(\"Zhangfei\",66,65,30,0),(\"Guanyu\",95,85,98,0),\n",
    "                    (\"Zhaoyun\",93,92,96,0),(\"Huangzhong\",90,88,77,0),\n",
    "                    (\"Dianwei\",80,90,90,0)],\n",
    "                  dtype = persontype)\n",
    "\n",
    "chineses = peoples[:]['chinese']\n",
    "englishes = peoples[:]['english']\n",
    "maths = peoples[:]['math']\n",
    "\n",
    "# 计算每个人总分\n",
    "peoples[:]['total'] = chineses + englishes + maths\n",
    "totals = peoples[:]['total']\n",
    "\n",
    "# table 在原始列表上加了总分\n",
    "table = np.array([chineses,englishes,maths,totals])\n",
    "\n",
    "# 包含所有统计数据的数组\n",
    "stat = np.array([np.mean(table, axis = 1),np.amax(table, axis = 1),\n",
    "                 np.amin(table, axis = 1),np.var(table, axis = 1),\n",
    "                np.std(table, axis = 1)])\n",
    "\n",
    "# 统计名称列向量\n",
    "statnames = np.array([[\"平均分:\"],[\"最高分:\"],[\"最低分:\"],[\"方 差:\"],[\"标准差:\"]])\n",
    "\n",
    "# 打印首行\n",
    "print (\"   统计值    语文    英语   数学   总分\")\n",
    "\n",
    "# 合并统计名称列向量和统计值矩阵\n",
    "# 这个方法把所有元素都变成字符串了，如何让数值仍然保持浮点型呢？\n",
    "print (np.hstack((statnames,np.round(stat, decimals = 1))))\n",
    "\n",
    "# 排序，默认是从小到大，如何从大到小排呢？\n",
    "print (\"按总成绩从低到高排序如下：\")\n",
    "print (np.sort(peoples, order = 'total'))"
   ]
  },
  {
   "cell_type": "code",
   "execution_count": 123,
   "metadata": {},
   "outputs": [
    {
     "name": "stdout",
     "output_type": "stream",
     "text": [
      "   统计值   语文  英语   数学\n",
      "['平均分:'] 84.8  84.0  78.2  \n",
      "\n",
      "['最高分:'] 95.0  92.0  98.0  \n",
      "\n",
      "['最低分:'] 66.0  65.0  30.0  \n",
      "\n",
      "['方 差:'] 115.0  95.6  634.6  \n",
      "\n",
      "['标准差:'] 10.7  9.8  25.2  \n",
      "\n"
     ]
    }
   ],
   "source": [
    "# 试下用循环来输出统计值\n",
    "print (\"   统计值   语文  英语   数学\")\n",
    "j = 0\n",
    "while j < 5:\n",
    "    i = -1\n",
    "    while i < 3:\n",
    "        if i < 0:\n",
    "            print (\"%s\" %(statnames[j]), end = \" \")\n",
    "            i += 1\n",
    "        else:\n",
    "            print (\"%.1f\" %(stat[j,i]), end = \"  \")\n",
    "            i += 1\n",
    "    print ('\\n')\n",
    "    j += 1"
   ]
  },
  {
   "cell_type": "markdown",
   "metadata": {},
   "source": [
    "### 待解决疑问\n",
    "\n",
    "- 在输出统计值时，我通过合并统计名称列向量和统计值矩阵，得到最后的大矩阵，但这个方法把所有元素都变成字符串类型，如何让数值仍然保持浮点型呢？\n",
    "\n",
    "- sort 排序，默认是从小到大，如何从大到小排呢？\n",
    "\n",
    "- 我的解法感觉并不精简，若有大神路过此地，可否指点一二？Thanks.\n",
    "\n",
    "## 参考资料\n",
    "\n",
    "[1] 极客时间-数据分析实战第4讲\n",
    "\n",
    "[2] [NumPy教程](http://www.runoob.com/numpy/numpy-tutorial.html)"
   ]
  },
  {
   "cell_type": "code",
   "execution_count": null,
   "metadata": {},
   "outputs": [],
   "source": []
  }
 ],
 "metadata": {
  "kernelspec": {
   "display_name": "Python 3",
   "language": "python",
   "name": "python3"
  },
  "language_info": {
   "codemirror_mode": {
    "name": "ipython",
    "version": 3
   },
   "file_extension": ".py",
   "mimetype": "text/x-python",
   "name": "python",
   "nbconvert_exporter": "python",
   "pygments_lexer": "ipython3",
   "version": "3.6.2"
  }
 },
 "nbformat": 4,
 "nbformat_minor": 2
}
